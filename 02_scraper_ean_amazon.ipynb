{
 "cells": [
  {
   "cell_type": "code",
   "execution_count": 20,
   "metadata": {},
   "outputs": [],
   "source": [
    "import pandas as pd\n",
    "\n",
    "from selenium import webdriver\n",
    "from webdriver_manager.chrome import ChromeDriverManager\n",
    "from selenium.webdriver.chrome.service import Service\n",
    "from selenium.webdriver.chrome.options import Options\n",
    "from selenium.webdriver.common.by import By\n",
    "from selenium.webdriver.common.keys import Keys\n",
    "from selenium.webdriver.support.ui import WebDriverWait\n",
    "from selenium.webdriver.support import expected_conditions as EC\n",
    "\n",
    "from bs4 import BeautifulSoup\n",
    "\n",
    "import re"
   ]
  },
  {
   "cell_type": "code",
   "execution_count": 2,
   "metadata": {},
   "outputs": [],
   "source": [
    "eans = pd.read_csv('database.csv')['ean'].to_list()"
   ]
  },
  {
   "cell_type": "code",
   "execution_count": 3,
   "metadata": {},
   "outputs": [],
   "source": [
    "def scrap_Amazon_sales(ean):\n",
    "    '''\n",
    "    Toma el ean de un libro y devuelve su posición\n",
    "    en distintos ranking de ventas de Amazon\n",
    "    '''\n",
    "    # Ajustes del driver\n",
    "    options = Options()\n",
    "    options.add_argument('--headless')\n",
    "    driver = webdriver.Chrome(service=Service(ChromeDriverManager().install()), options=options)\n",
    "    wait = WebDriverWait(driver, 10)                 \n",
    "    driver.delete_all_cookies()\n",
    "\n",
    "    # Acceso al artículo de Amazon\n",
    "    amazon_searcher = \"https://www.amazon.com/advanced-search/books\"\n",
    "    driver.get(amazon_searcher)\n",
    "\n",
    "    search_isbn = driver.find_element(By.XPATH, '//*[(@id = \"field-isbn\")]')\n",
    "    search_isbn.send_keys(str(ean))\n",
    "    wait.until(EC.element_to_be_clickable(search_isbn)).submit()\n",
    "\n",
    "    wait.until(EC.url_changes(amazon_searcher))\n",
    "\n",
    "    wait.until(EC.element_to_be_clickable((By.XPATH,\n",
    "                                          '//*[contains(concat( \" \", @class, \" \" ), concat( \" \", \"s-line-clamp-2\", \" \" ))]')\n",
    "                                         )).click()\n",
    "\n",
    "    # Extracción información ventas\n",
    "    soup = BeautifulSoup(driver.page_source)\n",
    "    try: \n",
    "        top_sales = soup.find(\"div\", {\"id\": \"detailBulletsWrapper_feature_div\"}).find_all(\n",
    "        \"ul\", class_= \"a-unordered-list a-nostyle a-vertical a-spacing-none detail-bullet-list\")[1].get_text()\n",
    "    except:\n",
    "        top_sales = None\n",
    "\n",
    "    # Cierre del driver\n",
    "    driver.quit()\n",
    "    \n",
    "    return (ean, top_sales)"
   ]
  },
  {
   "cell_type": "code",
   "execution_count": null,
   "metadata": {},
   "outputs": [],
   "source": [
    "# Realizamos el raspado web\n",
    "\n",
    "top_sales_by_ean = []\n",
    "for ean in eans:\n",
    "    try:\n",
    "        top_sales_by_ean.append(scrap_Amazon_sales(ean))\n",
    "    except:\n",
    "        continue"
   ]
  },
  {
   "cell_type": "code",
   "execution_count": 37,
   "metadata": {
    "scrolled": false
   },
   "outputs": [
    {
     "data": {
      "text/html": [
       "<div>\n",
       "<style scoped>\n",
       "    .dataframe tbody tr th:only-of-type {\n",
       "        vertical-align: middle;\n",
       "    }\n",
       "\n",
       "    .dataframe tbody tr th {\n",
       "        vertical-align: top;\n",
       "    }\n",
       "\n",
       "    .dataframe thead th {\n",
       "        text-align: right;\n",
       "    }\n",
       "</style>\n",
       "<table border=\"1\" class=\"dataframe\">\n",
       "  <thead>\n",
       "    <tr style=\"text-align: right;\">\n",
       "      <th></th>\n",
       "      <th>ean</th>\n",
       "      <th>tops_amazon</th>\n",
       "    </tr>\n",
       "  </thead>\n",
       "  <tbody>\n",
       "    <tr>\n",
       "      <th>0</th>\n",
       "      <td>9788433981066</td>\n",
       "      <td>[3,322,967 en Tienda Kindle, 6,137 en Biografí...</td>\n",
       "    </tr>\n",
       "    <tr>\n",
       "      <th>1</th>\n",
       "      <td>9788433981134</td>\n",
       "      <td>[1,835,602 en Libros, 63,596 en Memorias (Libr...</td>\n",
       "    </tr>\n",
       "    <tr>\n",
       "      <th>2</th>\n",
       "      <td>9788433981073</td>\n",
       "      <td>[804,658 en Tienda Kindle, 641 en Biografías y...</td>\n",
       "    </tr>\n",
       "    <tr>\n",
       "      <th>3</th>\n",
       "      <td>9788433981103</td>\n",
       "      <td>[377,300 en Tienda Kindle, 844 en Literatura y...</td>\n",
       "    </tr>\n",
       "    <tr>\n",
       "      <th>4</th>\n",
       "      <td>9788433981110</td>\n",
       "      <td>[2,090,463 en Libros, 99,130 en Libros en espa...</td>\n",
       "    </tr>\n",
       "  </tbody>\n",
       "</table>\n",
       "</div>"
      ],
      "text/plain": [
       "             ean                                        tops_amazon\n",
       "0  9788433981066  [3,322,967 en Tienda Kindle, 6,137 en Biografí...\n",
       "1  9788433981134  [1,835,602 en Libros, 63,596 en Memorias (Libr...\n",
       "2  9788433981073  [804,658 en Tienda Kindle, 641 en Biografías y...\n",
       "3  9788433981103  [377,300 en Tienda Kindle, 844 en Literatura y...\n",
       "4  9788433981110  [2,090,463 en Libros, 99,130 en Libros en espa..."
      ]
     },
     "metadata": {},
     "output_type": "display_data"
    }
   ],
   "source": [
    "# Tratamos y normalizamos los valores obtenidos\n",
    "\n",
    "d_tops = dict()\n",
    "for ean, top in top_sales_by_ean:\n",
    "    if top != None and top != '   ':\n",
    "        tops_libro = top.strip().split('nº')[1:]\n",
    "        for i, t in enumerate(tops_libro):\n",
    "            t = re.sub(r'\\(Ver el Top 100.*\\)', '', t)\n",
    "            tops_libro[i] = t.strip()\n",
    "        d_tops[ean] = tops_libro\n",
    "    \n",
    "df_amazon_tops = pd.DataFrame([d_tops.keys(), d_tops.values()]).transpose()\n",
    "df_amazon_tops.columns = ['ean', 'tops_amazon']\n",
    "\n",
    "#Mostramos primeras filas \n",
    "display(df_amazon_tops.head())"
   ]
  },
  {
   "cell_type": "code",
   "execution_count": 43,
   "metadata": {},
   "outputs": [],
   "source": [
    "# Añadimos la información obtenida al dataset original\n",
    "df = pd.read_csv(\"database.csv\")\n",
    "df = pd.merge(df,df_amazon_tops,on='ean',how='left')\n",
    "\n",
    "display(df)\n",
    "\n",
    "# Y finalmente guardamos el dataset definitivo en un archivo csv\n",
    "df.to_csv('coleccion_anagrama.csv', index=False)"
   ]
  }
 ],
 "metadata": {
  "kernelspec": {
   "display_name": "Python 3 (ipykernel)",
   "language": "python",
   "name": "python3"
  },
  "language_info": {
   "codemirror_mode": {
    "name": "ipython",
    "version": 3
   },
   "file_extension": ".py",
   "mimetype": "text/x-python",
   "name": "python",
   "nbconvert_exporter": "python",
   "pygments_lexer": "ipython3",
   "version": "3.9.7"
  }
 },
 "nbformat": 4,
 "nbformat_minor": 4
}
